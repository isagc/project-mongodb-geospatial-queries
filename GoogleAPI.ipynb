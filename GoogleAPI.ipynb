{
 "cells": [
  {
   "cell_type": "code",
   "execution_count": null,
   "metadata": {},
   "outputs": [],
   "source": [
    "#!pip3 install requests"
   ]
  },
  {
   "cell_type": "code",
   "execution_count": null,
   "metadata": {},
   "outputs": [],
   "source": [
    "import os\n",
    "import requests\n",
    "from dotenv import load_dotenv"
   ]
  },
  {
   "cell_type": "code",
   "execution_count": null,
   "metadata": {},
   "outputs": [],
   "source": [
    "def googleAPI(params):\n",
    "    authToken = os.getenv(\"GOOGLE_API\")\n",
    "    params[\"key\"] = authToken\n",
    "    url = \"https://maps.googleapis.com/maps/api/geocode/json?address={}&key={}\".format(address,authToken)\n",
    "    print(\"Requesting url {}...\".format(url))\n",
    "    res = requests.get(url, params=params)\n",
    "    print(\"Done\")\n",
    "    return res"
   ]
  },
  {
   "cell_type": "code",
   "execution_count": null,
   "metadata": {},
   "outputs": [],
   "source": [
    "'''\n",
    "from IPython.display import clear_output\n",
    "for i in range(10):\n",
    "    clear_output()\n",
    "    print(\"wwwwwww \",i)\n",
    "    time.sleep(0.5)\n",
    "'''\n",
    "\n",
    "'''\n",
    "#starbucks_lat = []\n",
    "#starbucks_long = []\n",
    "starbucks_coords=[]\n",
    "for s in starbucks:\n",
    "    #starbucks_coords.append(starbucks[s]['geometry']['location'])\n",
    "    lat=starbucks[s]['geometry']['location']['lat']\n",
    "    lng=starbucks[s]['geometry']['location']['lng']\n",
    "    starbucks_coords.append(getLocation(lng,lat))\n",
    "'''"
   ]
  },
  {
   "cell_type": "code",
   "execution_count": null,
   "metadata": {},
   "outputs": [],
   "source": [
    "address = \n",
    "def get_lat_long(address):\n",
    "    coordenadas = googleAPI(address)\n",
    "    return coordenadas"
   ]
  }
 ],
 "metadata": {
  "kernelspec": {
   "display_name": "Python 3",
   "language": "python",
   "name": "python3"
  },
  "language_info": {
   "codemirror_mode": {
    "name": "ipython",
    "version": 3
   },
   "file_extension": ".py",
   "mimetype": "text/x-python",
   "name": "python",
   "nbconvert_exporter": "python",
   "pygments_lexer": "ipython3",
   "version": "3.7.4"
  }
 },
 "nbformat": 4,
 "nbformat_minor": 2
}
