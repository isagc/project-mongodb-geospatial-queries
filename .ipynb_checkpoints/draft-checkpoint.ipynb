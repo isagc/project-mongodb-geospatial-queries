{
 "cells": [
  {
   "cell_type": "markdown",
   "metadata": {},
   "source": [
    "## MONGODB-PROJECT: GEOSPATIAL QUERIES"
   ]
  },
  {
   "cell_type": "markdown",
   "metadata": {},
   "source": [
    "!pip3 install pymongo"
   ]
  },
  {
   "cell_type": "code",
   "execution_count": 1,
   "metadata": {},
   "outputs": [],
   "source": [
    "from pymongo import MongoClient\n",
    "import pandas as pd"
   ]
  },
  {
   "cell_type": "markdown",
   "metadata": {},
   "source": [
    "★ Defino una funcion para conectarme a MongoDB"
   ]
  },
  {
   "cell_type": "code",
   "execution_count": 2,
   "metadata": {},
   "outputs": [],
   "source": [
    "def connectCollection(database, collection):\n",
    "    client = MongoClient()\n",
    "    db = client[database]\n",
    "    coll = db[collection]\n",
    "    return db, coll"
   ]
  },
  {
   "cell_type": "markdown",
   "metadata": {},
   "source": [
    "★ Le digo el database y la coleccion a la que quiero acceder y conectarme"
   ]
  },
  {
   "cell_type": "code",
   "execution_count": 3,
   "metadata": {},
   "outputs": [],
   "source": [
    "db, coll = connectCollection('companies','companies')"
   ]
  },
  {
   "cell_type": "markdown",
   "metadata": {},
   "source": [
    "★ Busco todas las compañias que esten en la industria \"games_video\""
   ]
  },
  {
   "cell_type": "code",
   "execution_count": 4,
   "metadata": {},
   "outputs": [],
   "source": [
    "gaming_companies = list(coll.find({'category_code':\"games_video\"}))\n",
    "# len(gaming_companies) == 1083"
   ]
  },
  {
   "cell_type": "markdown",
   "metadata": {},
   "source": [
    "★ Filtro el db con una query a mongodb. Le pido que me devuelva todas las compañías que no hayan quebrado y aquellas que tengan más de una oficina, que me seleccione todas."
   ]
  },
  {
   "cell_type": "code",
   "execution_count": 5,
   "metadata": {},
   "outputs": [],
   "source": [
    "company2 = list(coll.find({\"$and\": [{\"deadpooled_year\":None},{\"$where\":'this.offices.length >= 1'}]}))"
   ]
  },
  {
   "cell_type": "code",
   "execution_count": 6,
   "metadata": {},
   "outputs": [
    {
     "data": {
      "text/plain": [
       "12957"
      ]
     },
     "execution_count": 6,
     "metadata": {},
     "output_type": "execute_result"
    }
   ],
   "source": [
    "len(company2)"
   ]
  },
  {
   "cell_type": "markdown",
   "metadata": {},
   "source": [
    "★ Creo un diccionario de una lista a la que le voy metiendo todos los valores con los que me quiero quedar."
   ]
  },
  {
   "cell_type": "code",
   "execution_count": 7,
   "metadata": {},
   "outputs": [],
   "source": [
    "merged_offices = []\n",
    "for c in company2:\n",
    "    offices = c.get('offices',[])\n",
    "    for office in offices:\n",
    "        merged_office = dict()\n",
    "        raised_amount=0\n",
    "        merged_office[\"ref\"] = str(c.get('_id',0))\n",
    "        merged_office[\"name\"]=c.get('name',0)\n",
    "        merged_office[\"category\"]=c.get('category_code',0)\n",
    "        merged_office[\"description\"]=c.get('description',0)\n",
    "        merged_office[\"latitude\"]=office.get('latitude',0)\n",
    "        merged_office[\"longitude\"]=office.get('longitude',0)\n",
    "        merged_office[\"founded_year\"]=c.get('founded_year',0)\n",
    "        merged_office[\"total_money_raised\"]=c.get('total_money_raised',0)\n",
    "        for rounds in range(len(c.get('funding_rounds'))):\n",
    "            r=c.get('funding_rounds')[rounds].get('raised_amount',0)\n",
    "            if r !=None:\n",
    "                raised_amount+=r\n",
    "        merged_office[\"raised_amount\"]=raised_amount\n",
    "        if len(c.get('funding_rounds'))>0:\n",
    "            merged_office[\"currency\"]=c.get('funding_rounds')[0].get('raised_currency_code',0)\n",
    "        else:\n",
    "            merged_office[\"currency\"]=0\n",
    "        merged_offices.append(merged_office)\n",
    "        merged_office['address'] = office.get('address1', 0)\n",
    "        merged_office['zip_code'] = office.get('zip_code', 0)\n",
    "        merged_office['city'] = office.get('city', 0)"
   ]
  },
  {
   "cell_type": "markdown",
   "metadata": {},
   "source": [
    "★ Creo un DataFrame (df) con toda esa información"
   ]
  },
  {
   "cell_type": "code",
   "execution_count": 8,
   "metadata": {},
   "outputs": [
    {
     "data": {
      "text/plain": [
       "(15848, 13)"
      ]
     },
     "execution_count": 8,
     "metadata": {},
     "output_type": "execute_result"
    }
   ],
   "source": [
    "data = merged_offices\n",
    "df = pd.DataFrame(data)\n",
    "df.shape"
   ]
  },
  {
   "cell_type": "markdown",
   "metadata": {},
   "source": [
    "★ Defino la funcion getLocation() que me crea un diccionario en formato GeoIndex \n",
    "y mete las longitudes y latitudes de todas las oficinas de mi df"
   ]
  },
  {
   "cell_type": "code",
   "execution_count": 9,
   "metadata": {},
   "outputs": [],
   "source": [
    "def getLocation(long, lat):\n",
    "    loc = {\n",
    "        'type':'Point',\n",
    "        'coordinates':[float(long), float(lat)]\n",
    "    }\n",
    "    return loc"
   ]
  },
  {
   "cell_type": "code",
   "execution_count": 10,
   "metadata": {},
   "outputs": [],
   "source": [
    "df_long_lat = df[['longitude', 'latitude']] \n",
    "location = []\n",
    "for long,lat in df_long_lat.values:\n",
    "    location.append(getLocation(long, lat))"
   ]
  },
  {
   "cell_type": "markdown",
   "metadata": {},
   "source": [
    "★ Creo la columna 'GeoIndex' en mi df original con el formato {type,coordinates}"
   ]
  },
  {
   "cell_type": "code",
   "execution_count": 11,
   "metadata": {},
   "outputs": [],
   "source": [
    "df['GeoIndex'] = location\n",
    "# df.shape (15848 rows × 14 columns)"
   ]
  },
  {
   "cell_type": "code",
   "execution_count": 24,
   "metadata": {},
   "outputs": [
    {
     "data": {
      "text/html": [
       "<div>\n",
       "<style scoped>\n",
       "    .dataframe tbody tr th:only-of-type {\n",
       "        vertical-align: middle;\n",
       "    }\n",
       "\n",
       "    .dataframe tbody tr th {\n",
       "        vertical-align: top;\n",
       "    }\n",
       "\n",
       "    .dataframe thead th {\n",
       "        text-align: right;\n",
       "    }\n",
       "</style>\n",
       "<table border=\"1\" class=\"dataframe\">\n",
       "  <thead>\n",
       "    <tr style=\"text-align: right;\">\n",
       "      <th></th>\n",
       "      <th>ref</th>\n",
       "      <th>name</th>\n",
       "      <th>category</th>\n",
       "      <th>description</th>\n",
       "      <th>latitude</th>\n",
       "      <th>longitude</th>\n",
       "      <th>founded_year</th>\n",
       "      <th>total_money_raised</th>\n",
       "      <th>raised_amount</th>\n",
       "      <th>currency</th>\n",
       "      <th>address</th>\n",
       "      <th>zip_code</th>\n",
       "      <th>city</th>\n",
       "      <th>GeoIndex</th>\n",
       "    </tr>\n",
       "  </thead>\n",
       "  <tbody>\n",
       "    <tr>\n",
       "      <th>0</th>\n",
       "      <td>52cdef7c4bab8bd675297d90</td>\n",
       "      <td>Postini</td>\n",
       "      <td>web</td>\n",
       "      <td>None</td>\n",
       "      <td>37.506885</td>\n",
       "      <td>-122.247573</td>\n",
       "      <td>1999.0</td>\n",
       "      <td>$0</td>\n",
       "      <td>0.0</td>\n",
       "      <td>USD</td>\n",
       "      <td>959 Skyway Road, Suite 200</td>\n",
       "      <td>94070</td>\n",
       "      <td>San Carlos</td>\n",
       "      <td>{'type': 'Point', 'coordinates': [-122.247573,...</td>\n",
       "    </tr>\n",
       "    <tr>\n",
       "      <th>1</th>\n",
       "      <td>52cdef7c4bab8bd675297d92</td>\n",
       "      <td>Flektor</td>\n",
       "      <td>games_video</td>\n",
       "      <td>None</td>\n",
       "      <td>34.025958</td>\n",
       "      <td>-118.379768</td>\n",
       "      <td>NaN</td>\n",
       "      <td>$0</td>\n",
       "      <td>0.0</td>\n",
       "      <td>USD</td>\n",
       "      <td>8536 National Blvd, Suite A</td>\n",
       "      <td>90232</td>\n",
       "      <td>Culver City</td>\n",
       "      <td>{'type': 'Point', 'coordinates': [-118.379768,...</td>\n",
       "    </tr>\n",
       "    <tr>\n",
       "      <th>2</th>\n",
       "      <td>52cdef7c4bab8bd675297d8d</td>\n",
       "      <td>Digg</td>\n",
       "      <td>news</td>\n",
       "      <td>user driven social content website</td>\n",
       "      <td>37.764726</td>\n",
       "      <td>-122.394523</td>\n",
       "      <td>2004.0</td>\n",
       "      <td>$45M</td>\n",
       "      <td>45000000.0</td>\n",
       "      <td>USD</td>\n",
       "      <td>135 Mississippi St</td>\n",
       "      <td>94107</td>\n",
       "      <td>San Francisco</td>\n",
       "      <td>{'type': 'Point', 'coordinates': [-122.394523,...</td>\n",
       "    </tr>\n",
       "    <tr>\n",
       "      <th>3</th>\n",
       "      <td>52cdef7c4bab8bd675297d91</td>\n",
       "      <td>Geni</td>\n",
       "      <td>web</td>\n",
       "      <td>Geneology social network site</td>\n",
       "      <td>34.090368</td>\n",
       "      <td>-118.393064</td>\n",
       "      <td>2006.0</td>\n",
       "      <td>$16.5M</td>\n",
       "      <td>16500000.0</td>\n",
       "      <td>USD</td>\n",
       "      <td>9229 W. Sunset Blvd.</td>\n",
       "      <td>90069</td>\n",
       "      <td>West Hollywood</td>\n",
       "      <td>{'type': 'Point', 'coordinates': [-118.393064,...</td>\n",
       "    </tr>\n",
       "    <tr>\n",
       "      <th>4</th>\n",
       "      <td>52cdef7c4bab8bd675297d95</td>\n",
       "      <td>StumbleUpon</td>\n",
       "      <td>web</td>\n",
       "      <td>Content discovery service</td>\n",
       "      <td>37.775196</td>\n",
       "      <td>-122.419204</td>\n",
       "      <td>2002.0</td>\n",
       "      <td>$18.5M</td>\n",
       "      <td>18500000.0</td>\n",
       "      <td>USD</td>\n",
       "      <td></td>\n",
       "      <td></td>\n",
       "      <td>San Francisco</td>\n",
       "      <td>{'type': 'Point', 'coordinates': [-122.419204,...</td>\n",
       "    </tr>\n",
       "    <tr>\n",
       "      <th>...</th>\n",
       "      <td>...</td>\n",
       "      <td>...</td>\n",
       "      <td>...</td>\n",
       "      <td>...</td>\n",
       "      <td>...</td>\n",
       "      <td>...</td>\n",
       "      <td>...</td>\n",
       "      <td>...</td>\n",
       "      <td>...</td>\n",
       "      <td>...</td>\n",
       "      <td>...</td>\n",
       "      <td>...</td>\n",
       "      <td>...</td>\n",
       "      <td>...</td>\n",
       "    </tr>\n",
       "    <tr>\n",
       "      <th>15843</th>\n",
       "      <td>52cdef7f4bab8bd67529c6f5</td>\n",
       "      <td>Oriact</td>\n",
       "      <td>software</td>\n",
       "      <td>Solutions for software development</td>\n",
       "      <td>47.088219</td>\n",
       "      <td>8.437163</td>\n",
       "      <td>2009.0</td>\n",
       "      <td>$0</td>\n",
       "      <td>0.0</td>\n",
       "      <td>USD</td>\n",
       "      <td>LÃ¤rchenweg 7</td>\n",
       "      <td>6403</td>\n",
       "      <td>KÃ¼ssnacht</td>\n",
       "      <td>{'type': 'Point', 'coordinates': [8.4371634, 4...</td>\n",
       "    </tr>\n",
       "    <tr>\n",
       "      <th>15844</th>\n",
       "      <td>52cdef7f4bab8bd67529c6f6</td>\n",
       "      <td>Adhunk</td>\n",
       "      <td>advertising</td>\n",
       "      <td>Online Admanager</td>\n",
       "      <td>NaN</td>\n",
       "      <td>NaN</td>\n",
       "      <td>2009.0</td>\n",
       "      <td>$0</td>\n",
       "      <td>0.0</td>\n",
       "      <td>USD</td>\n",
       "      <td>Near Tube Well(south)</td>\n",
       "      <td>334003</td>\n",
       "      <td>Bikaner</td>\n",
       "      <td>{'type': 'Point', 'coordinates': [nan, nan]}</td>\n",
       "    </tr>\n",
       "    <tr>\n",
       "      <th>15845</th>\n",
       "      <td>52cdef7f4bab8bd67529c6f7</td>\n",
       "      <td>AfterLogic</td>\n",
       "      <td>software</td>\n",
       "      <td>.NET Email Components and Webmail</td>\n",
       "      <td>40.793024</td>\n",
       "      <td>-74.323554</td>\n",
       "      <td>2002.0</td>\n",
       "      <td>$0</td>\n",
       "      <td>0.0</td>\n",
       "      <td>USD</td>\n",
       "      <td>P.O. Box 2096</td>\n",
       "      <td>07039</td>\n",
       "      <td>Livingston</td>\n",
       "      <td>{'type': 'Point', 'coordinates': [-74.3235539,...</td>\n",
       "    </tr>\n",
       "    <tr>\n",
       "      <th>15846</th>\n",
       "      <td>52cdef7f4bab8bd67529c6f9</td>\n",
       "      <td>EnteGreat Solutions</td>\n",
       "      <td>software</td>\n",
       "      <td></td>\n",
       "      <td>33.518885</td>\n",
       "      <td>-86.816068</td>\n",
       "      <td>NaN</td>\n",
       "      <td>$0</td>\n",
       "      <td>0.0</td>\n",
       "      <td>USD</td>\n",
       "      <td></td>\n",
       "      <td></td>\n",
       "      <td>Birmingham</td>\n",
       "      <td>{'type': 'Point', 'coordinates': [-86.816068, ...</td>\n",
       "    </tr>\n",
       "    <tr>\n",
       "      <th>15847</th>\n",
       "      <td>52cdef7f4bab8bd67529c6fa</td>\n",
       "      <td>EnteGreat</td>\n",
       "      <td>enterprise</td>\n",
       "      <td></td>\n",
       "      <td>33.407786</td>\n",
       "      <td>-86.761302</td>\n",
       "      <td>2000.0</td>\n",
       "      <td>$0</td>\n",
       "      <td>0.0</td>\n",
       "      <td>USD</td>\n",
       "      <td>1900 International Park Drive</td>\n",
       "      <td>35243-4204</td>\n",
       "      <td>Birmingham</td>\n",
       "      <td>{'type': 'Point', 'coordinates': [-86.7613019,...</td>\n",
       "    </tr>\n",
       "  </tbody>\n",
       "</table>\n",
       "<p>15848 rows × 14 columns</p>\n",
       "</div>"
      ],
      "text/plain": [
       "                            ref                 name     category  \\\n",
       "0      52cdef7c4bab8bd675297d90              Postini          web   \n",
       "1      52cdef7c4bab8bd675297d92              Flektor  games_video   \n",
       "2      52cdef7c4bab8bd675297d8d                 Digg         news   \n",
       "3      52cdef7c4bab8bd675297d91                 Geni          web   \n",
       "4      52cdef7c4bab8bd675297d95          StumbleUpon          web   \n",
       "...                         ...                  ...          ...   \n",
       "15843  52cdef7f4bab8bd67529c6f5               Oriact     software   \n",
       "15844  52cdef7f4bab8bd67529c6f6               Adhunk  advertising   \n",
       "15845  52cdef7f4bab8bd67529c6f7           AfterLogic     software   \n",
       "15846  52cdef7f4bab8bd67529c6f9  EnteGreat Solutions     software   \n",
       "15847  52cdef7f4bab8bd67529c6fa            EnteGreat   enterprise   \n",
       "\n",
       "                              description   latitude   longitude  \\\n",
       "0                                    None  37.506885 -122.247573   \n",
       "1                                    None  34.025958 -118.379768   \n",
       "2      user driven social content website  37.764726 -122.394523   \n",
       "3           Geneology social network site  34.090368 -118.393064   \n",
       "4               Content discovery service  37.775196 -122.419204   \n",
       "...                                   ...        ...         ...   \n",
       "15843  Solutions for software development  47.088219    8.437163   \n",
       "15844                    Online Admanager        NaN         NaN   \n",
       "15845   .NET Email Components and Webmail  40.793024  -74.323554   \n",
       "15846                                      33.518885  -86.816068   \n",
       "15847                                      33.407786  -86.761302   \n",
       "\n",
       "       founded_year total_money_raised  raised_amount currency  \\\n",
       "0            1999.0                 $0            0.0      USD   \n",
       "1               NaN                 $0            0.0      USD   \n",
       "2            2004.0               $45M     45000000.0      USD   \n",
       "3            2006.0             $16.5M     16500000.0      USD   \n",
       "4            2002.0             $18.5M     18500000.0      USD   \n",
       "...             ...                ...            ...      ...   \n",
       "15843        2009.0                 $0            0.0      USD   \n",
       "15844        2009.0                 $0            0.0      USD   \n",
       "15845        2002.0                 $0            0.0      USD   \n",
       "15846           NaN                 $0            0.0      USD   \n",
       "15847        2000.0                 $0            0.0      USD   \n",
       "\n",
       "                             address    zip_code            city  \\\n",
       "0         959 Skyway Road, Suite 200       94070      San Carlos   \n",
       "1        8536 National Blvd, Suite A       90232     Culver City   \n",
       "2                 135 Mississippi St       94107   San Francisco   \n",
       "3               9229 W. Sunset Blvd.       90069  West Hollywood   \n",
       "4                                                  San Francisco   \n",
       "...                              ...         ...             ...   \n",
       "15843                  LÃ¤rchenweg 7        6403      KÃ¼ssnacht   \n",
       "15844          Near Tube Well(south)      334003         Bikaner   \n",
       "15845                  P.O. Box 2096       07039      Livingston   \n",
       "15846                                                 Birmingham   \n",
       "15847  1900 International Park Drive  35243-4204      Birmingham   \n",
       "\n",
       "                                                GeoIndex  \n",
       "0      {'type': 'Point', 'coordinates': [-122.247573,...  \n",
       "1      {'type': 'Point', 'coordinates': [-118.379768,...  \n",
       "2      {'type': 'Point', 'coordinates': [-122.394523,...  \n",
       "3      {'type': 'Point', 'coordinates': [-118.393064,...  \n",
       "4      {'type': 'Point', 'coordinates': [-122.419204,...  \n",
       "...                                                  ...  \n",
       "15843  {'type': 'Point', 'coordinates': [8.4371634, 4...  \n",
       "15844       {'type': 'Point', 'coordinates': [nan, nan]}  \n",
       "15845  {'type': 'Point', 'coordinates': [-74.3235539,...  \n",
       "15846  {'type': 'Point', 'coordinates': [-86.816068, ...  \n",
       "15847  {'type': 'Point', 'coordinates': [-86.7613019,...  \n",
       "\n",
       "[15848 rows x 14 columns]"
      ]
     },
     "execution_count": 24,
     "metadata": {},
     "output_type": "execute_result"
    }
   ],
   "source": [
    "df"
   ]
  },
  {
   "cell_type": "markdown",
   "metadata": {},
   "source": [
    "★ Asigno a la columna 'currency' los simbolos de la moneda que salgan en la columna 'raised_amount'. De esta manera, evito tener \"0\" en 'currency'."
   ]
  },
  {
   "cell_type": "code",
   "execution_count": 13,
   "metadata": {},
   "outputs": [],
   "source": [
    "currencies = {\"$\":\"USD\", \"C$\":\"CAD\", \"£\":\"GBP\", \"€\":\"EUR\", \"¥\":\"JPY\", \"kr\":\"SEK\"}\n",
    "for key,value in currencies.items():\n",
    "    df.loc[(df['total_money_raised'].str.startswith(key)),'currency']=value"
   ]
  },
  {
   "cell_type": "markdown",
   "metadata": {},
   "source": [
    "★ Ahora que ya tengo toda la columna 'currency' con sus respectivos valores, creo un dataframe (df_currency) que me filtre por aquellas empresas en las que el 'raised_amount' sea > 1M pero teniendo en cuenta el tipo de moneda que sea, i.e., euros, dolares, dolares canadienses, coronas suecas, etc."
   ]
  },
  {
   "cell_type": "code",
   "execution_count": 14,
   "metadata": {},
   "outputs": [
    {
     "data": {
      "text/html": [
       "<div>\n",
       "<style scoped>\n",
       "    .dataframe tbody tr th:only-of-type {\n",
       "        vertical-align: middle;\n",
       "    }\n",
       "\n",
       "    .dataframe tbody tr th {\n",
       "        vertical-align: top;\n",
       "    }\n",
       "\n",
       "    .dataframe thead th {\n",
       "        text-align: right;\n",
       "    }\n",
       "</style>\n",
       "<table border=\"1\" class=\"dataframe\">\n",
       "  <thead>\n",
       "    <tr style=\"text-align: right;\">\n",
       "      <th></th>\n",
       "      <th>ref</th>\n",
       "      <th>name</th>\n",
       "      <th>category</th>\n",
       "      <th>description</th>\n",
       "      <th>latitude</th>\n",
       "      <th>longitude</th>\n",
       "      <th>founded_year</th>\n",
       "      <th>total_money_raised</th>\n",
       "      <th>raised_amount</th>\n",
       "      <th>currency</th>\n",
       "      <th>address</th>\n",
       "      <th>zip_code</th>\n",
       "      <th>city</th>\n",
       "      <th>GeoIndex</th>\n",
       "    </tr>\n",
       "  </thead>\n",
       "  <tbody>\n",
       "    <tr>\n",
       "      <th>2</th>\n",
       "      <td>52cdef7c4bab8bd675297d8d</td>\n",
       "      <td>Digg</td>\n",
       "      <td>news</td>\n",
       "      <td>user driven social content website</td>\n",
       "      <td>37.764726</td>\n",
       "      <td>-122.394523</td>\n",
       "      <td>2004.0</td>\n",
       "      <td>$45M</td>\n",
       "      <td>45000000.0</td>\n",
       "      <td>USD</td>\n",
       "      <td>135 Mississippi St</td>\n",
       "      <td>94107</td>\n",
       "      <td>San Francisco</td>\n",
       "      <td>{'type': 'Point', 'coordinates': [-122.394523,...</td>\n",
       "    </tr>\n",
       "    <tr>\n",
       "      <th>3</th>\n",
       "      <td>52cdef7c4bab8bd675297d91</td>\n",
       "      <td>Geni</td>\n",
       "      <td>web</td>\n",
       "      <td>Geneology social network site</td>\n",
       "      <td>34.090368</td>\n",
       "      <td>-118.393064</td>\n",
       "      <td>2006.0</td>\n",
       "      <td>$16.5M</td>\n",
       "      <td>16500000.0</td>\n",
       "      <td>USD</td>\n",
       "      <td>9229 W. Sunset Blvd.</td>\n",
       "      <td>90069</td>\n",
       "      <td>West Hollywood</td>\n",
       "      <td>{'type': 'Point', 'coordinates': [-118.393064,...</td>\n",
       "    </tr>\n",
       "    <tr>\n",
       "      <th>4</th>\n",
       "      <td>52cdef7c4bab8bd675297d95</td>\n",
       "      <td>StumbleUpon</td>\n",
       "      <td>web</td>\n",
       "      <td>Content discovery service</td>\n",
       "      <td>37.775196</td>\n",
       "      <td>-122.419204</td>\n",
       "      <td>2002.0</td>\n",
       "      <td>$18.5M</td>\n",
       "      <td>18500000.0</td>\n",
       "      <td>USD</td>\n",
       "      <td></td>\n",
       "      <td></td>\n",
       "      <td>San Francisco</td>\n",
       "      <td>{'type': 'Point', 'coordinates': [-122.419204,...</td>\n",
       "    </tr>\n",
       "    <tr>\n",
       "      <th>5</th>\n",
       "      <td>52cdef7c4bab8bd675297d95</td>\n",
       "      <td>StumbleUpon</td>\n",
       "      <td>web</td>\n",
       "      <td>Content discovery service</td>\n",
       "      <td>NaN</td>\n",
       "      <td>NaN</td>\n",
       "      <td>2002.0</td>\n",
       "      <td>$18.5M</td>\n",
       "      <td>18500000.0</td>\n",
       "      <td>USD</td>\n",
       "      <td></td>\n",
       "      <td></td>\n",
       "      <td>New York City</td>\n",
       "      <td>{'type': 'Point', 'coordinates': [nan, nan]}</td>\n",
       "    </tr>\n",
       "    <tr>\n",
       "      <th>7</th>\n",
       "      <td>52cdef7c4bab8bd675297d96</td>\n",
       "      <td>Gizmoz</td>\n",
       "      <td>web</td>\n",
       "      <td>Photo animation</td>\n",
       "      <td>37.484130</td>\n",
       "      <td>-122.169472</td>\n",
       "      <td>2003.0</td>\n",
       "      <td>$18.1M</td>\n",
       "      <td>18100000.0</td>\n",
       "      <td>USD</td>\n",
       "      <td>None</td>\n",
       "      <td>None</td>\n",
       "      <td>Menlo Park</td>\n",
       "      <td>{'type': 'Point', 'coordinates': [-122.169472,...</td>\n",
       "    </tr>\n",
       "    <tr>\n",
       "      <th>...</th>\n",
       "      <td>...</td>\n",
       "      <td>...</td>\n",
       "      <td>...</td>\n",
       "      <td>...</td>\n",
       "      <td>...</td>\n",
       "      <td>...</td>\n",
       "      <td>...</td>\n",
       "      <td>...</td>\n",
       "      <td>...</td>\n",
       "      <td>...</td>\n",
       "      <td>...</td>\n",
       "      <td>...</td>\n",
       "      <td>...</td>\n",
       "      <td>...</td>\n",
       "    </tr>\n",
       "    <tr>\n",
       "      <th>15828</th>\n",
       "      <td>52cdef7f4bab8bd67529c6de</td>\n",
       "      <td>Cantimer</td>\n",
       "      <td>None</td>\n",
       "      <td></td>\n",
       "      <td>37.484616</td>\n",
       "      <td>-122.181753</td>\n",
       "      <td>2006.0</td>\n",
       "      <td>$2M</td>\n",
       "      <td>2000000.0</td>\n",
       "      <td>USD</td>\n",
       "      <td>3700 Haven Court</td>\n",
       "      <td>94025</td>\n",
       "      <td>Menlo Park</td>\n",
       "      <td>{'type': 'Point', 'coordinates': [-122.181753,...</td>\n",
       "    </tr>\n",
       "    <tr>\n",
       "      <th>15829</th>\n",
       "      <td>52cdef7f4bab8bd67529c6e0</td>\n",
       "      <td>Celestial Semiconductor</td>\n",
       "      <td>semiconductor</td>\n",
       "      <td></td>\n",
       "      <td>37.386417</td>\n",
       "      <td>-121.929170</td>\n",
       "      <td>2004.0</td>\n",
       "      <td>$2M</td>\n",
       "      <td>2000000.0</td>\n",
       "      <td>USD</td>\n",
       "      <td>2635 North 1st Street, Suite 150</td>\n",
       "      <td>95134</td>\n",
       "      <td>San Jose</td>\n",
       "      <td>{'type': 'Point', 'coordinates': [-121.92917, ...</td>\n",
       "    </tr>\n",
       "    <tr>\n",
       "      <th>15830</th>\n",
       "      <td>52cdef7f4bab8bd67529c6e3</td>\n",
       "      <td>InSound Medical</td>\n",
       "      <td>biotech</td>\n",
       "      <td>Hearing Devices</td>\n",
       "      <td>37.512038</td>\n",
       "      <td>-121.998513</td>\n",
       "      <td>NaN</td>\n",
       "      <td>$11M</td>\n",
       "      <td>11000000.0</td>\n",
       "      <td>USD</td>\n",
       "      <td>39660 Eureka Drive</td>\n",
       "      <td>94560</td>\n",
       "      <td>Newark</td>\n",
       "      <td>{'type': 'Point', 'coordinates': [-121.998513,...</td>\n",
       "    </tr>\n",
       "    <tr>\n",
       "      <th>15831</th>\n",
       "      <td>52cdef7f4bab8bd67529c6e4</td>\n",
       "      <td>Getyoo</td>\n",
       "      <td>mobile</td>\n",
       "      <td>NFC Events Solutions</td>\n",
       "      <td>50.839970</td>\n",
       "      <td>4.346472</td>\n",
       "      <td>2009.0</td>\n",
       "      <td>€1.13M</td>\n",
       "      <td>1130000.0</td>\n",
       "      <td>EUR</td>\n",
       "      <td>Rue des Tanneurs, 60a</td>\n",
       "      <td>1000</td>\n",
       "      <td>Brussels</td>\n",
       "      <td>{'type': 'Point', 'coordinates': [4.3464721, 5...</td>\n",
       "    </tr>\n",
       "    <tr>\n",
       "      <th>15834</th>\n",
       "      <td>52cdef7f4bab8bd67529c6e1</td>\n",
       "      <td>Purfresh</td>\n",
       "      <td>cleantech</td>\n",
       "      <td></td>\n",
       "      <td>37.477008</td>\n",
       "      <td>-122.151599</td>\n",
       "      <td>1996.0</td>\n",
       "      <td>$62.7M</td>\n",
       "      <td>62700000.0</td>\n",
       "      <td>USD</td>\n",
       "      <td>1350 Willow Road,</td>\n",
       "      <td>94025</td>\n",
       "      <td>Menlo Park</td>\n",
       "      <td>{'type': 'Point', 'coordinates': [-122.151599,...</td>\n",
       "    </tr>\n",
       "  </tbody>\n",
       "</table>\n",
       "<p>4824 rows × 14 columns</p>\n",
       "</div>"
      ],
      "text/plain": [
       "                            ref                     name       category  \\\n",
       "2      52cdef7c4bab8bd675297d8d                     Digg           news   \n",
       "3      52cdef7c4bab8bd675297d91                     Geni            web   \n",
       "4      52cdef7c4bab8bd675297d95              StumbleUpon            web   \n",
       "5      52cdef7c4bab8bd675297d95              StumbleUpon            web   \n",
       "7      52cdef7c4bab8bd675297d96                   Gizmoz            web   \n",
       "...                         ...                      ...            ...   \n",
       "15828  52cdef7f4bab8bd67529c6de                 Cantimer           None   \n",
       "15829  52cdef7f4bab8bd67529c6e0  Celestial Semiconductor  semiconductor   \n",
       "15830  52cdef7f4bab8bd67529c6e3          InSound Medical        biotech   \n",
       "15831  52cdef7f4bab8bd67529c6e4                   Getyoo         mobile   \n",
       "15834  52cdef7f4bab8bd67529c6e1                 Purfresh      cleantech   \n",
       "\n",
       "                              description   latitude   longitude  \\\n",
       "2      user driven social content website  37.764726 -122.394523   \n",
       "3           Geneology social network site  34.090368 -118.393064   \n",
       "4               Content discovery service  37.775196 -122.419204   \n",
       "5               Content discovery service        NaN         NaN   \n",
       "7                         Photo animation  37.484130 -122.169472   \n",
       "...                                   ...        ...         ...   \n",
       "15828                                      37.484616 -122.181753   \n",
       "15829                                      37.386417 -121.929170   \n",
       "15830                     Hearing Devices  37.512038 -121.998513   \n",
       "15831                NFC Events Solutions  50.839970    4.346472   \n",
       "15834                                      37.477008 -122.151599   \n",
       "\n",
       "       founded_year total_money_raised  raised_amount currency  \\\n",
       "2            2004.0               $45M     45000000.0      USD   \n",
       "3            2006.0             $16.5M     16500000.0      USD   \n",
       "4            2002.0             $18.5M     18500000.0      USD   \n",
       "5            2002.0             $18.5M     18500000.0      USD   \n",
       "7            2003.0             $18.1M     18100000.0      USD   \n",
       "...             ...                ...            ...      ...   \n",
       "15828        2006.0                $2M      2000000.0      USD   \n",
       "15829        2004.0                $2M      2000000.0      USD   \n",
       "15830           NaN               $11M     11000000.0      USD   \n",
       "15831        2009.0             €1.13M      1130000.0      EUR   \n",
       "15834        1996.0             $62.7M     62700000.0      USD   \n",
       "\n",
       "                                address zip_code            city  \\\n",
       "2                    135 Mississippi St    94107   San Francisco   \n",
       "3                  9229 W. Sunset Blvd.    90069  West Hollywood   \n",
       "4                                                  San Francisco   \n",
       "5                                                  New York City   \n",
       "7                                  None     None      Menlo Park   \n",
       "...                                 ...      ...             ...   \n",
       "15828                  3700 Haven Court    94025      Menlo Park   \n",
       "15829  2635 North 1st Street, Suite 150    95134        San Jose   \n",
       "15830                39660 Eureka Drive    94560          Newark   \n",
       "15831             Rue des Tanneurs, 60a     1000        Brussels   \n",
       "15834                 1350 Willow Road,    94025      Menlo Park   \n",
       "\n",
       "                                                GeoIndex  \n",
       "2      {'type': 'Point', 'coordinates': [-122.394523,...  \n",
       "3      {'type': 'Point', 'coordinates': [-118.393064,...  \n",
       "4      {'type': 'Point', 'coordinates': [-122.419204,...  \n",
       "5           {'type': 'Point', 'coordinates': [nan, nan]}  \n",
       "7      {'type': 'Point', 'coordinates': [-122.169472,...  \n",
       "...                                                  ...  \n",
       "15828  {'type': 'Point', 'coordinates': [-122.181753,...  \n",
       "15829  {'type': 'Point', 'coordinates': [-121.92917, ...  \n",
       "15830  {'type': 'Point', 'coordinates': [-121.998513,...  \n",
       "15831  {'type': 'Point', 'coordinates': [4.3464721, 5...  \n",
       "15834  {'type': 'Point', 'coordinates': [-122.151599,...  \n",
       "\n",
       "[4824 rows x 14 columns]"
      ]
     },
     "execution_count": 14,
     "metadata": {},
     "output_type": "execute_result"
    }
   ],
   "source": [
    "df_currency=df[(((df['raised_amount']>=1000000) & (df['currency']=='USD'))|((df['raised_amount']>=1320000) & (df['currency']=='CAD'))|((df['raised_amount']>=900000) & (df['currency']=='EUR'))|((df['raised_amount']>=770000) & (df['currency']=='GBP'))|((df['raised_amount']>=108560000) & (df['currency']=='JPY'))|((df['raised_amount']>=9640000) & (df['currency']=='SEK')))]\n",
    "df_currency"
   ]
  },
  {
   "cell_type": "markdown",
   "metadata": {},
   "source": [
    "★ Aquí simplemente estoy comprobando que me ha sustituido los \"0\" de la columna 'currency' por el tipo de moneda que le corresponda."
   ]
  },
  {
   "cell_type": "code",
   "execution_count": 15,
   "metadata": {},
   "outputs": [
    {
     "data": {
      "text/plain": [
       "{'CAD', 'EUR', 'GBP', 'JPY', 'SEK', 'USD'}"
      ]
     },
     "execution_count": 15,
     "metadata": {},
     "output_type": "execute_result"
    }
   ],
   "source": [
    "set(df['currency'])"
   ]
  },
  {
   "cell_type": "markdown",
   "metadata": {},
   "source": [
    "★ Divido mis preferencias en tres dataframes distintos:"
   ]
  },
  {
   "cell_type": "markdown",
   "metadata": {},
   "source": [
    "➊ Dataframe con todas las compañias que hayan levantado mas de 1M."
   ]
  },
  {
   "cell_type": "code",
   "execution_count": 25,
   "metadata": {},
   "outputs": [
    {
     "data": {
      "text/plain": [
       "(4824, 14)"
      ]
     },
     "execution_count": 25,
     "metadata": {},
     "output_type": "execute_result"
    }
   ],
   "source": [
    "dataframe_1M = df_currency\n",
    "dataframe_1M.shape"
   ]
  },
  {
   "cell_type": "markdown",
   "metadata": {},
   "source": [
    "➋ Dataframe con todas las compañias que han levantado mas de 1M y que además han sido creadas en los ultimos 10 años, i.e., las compañias que queremos tener cerca."
   ]
  },
  {
   "cell_type": "code",
   "execution_count": 26,
   "metadata": {},
   "outputs": [
    {
     "data": {
      "text/plain": [
       "(159, 14)"
      ]
     },
     "execution_count": 26,
     "metadata": {},
     "output_type": "execute_result"
    }
   ],
   "source": [
    "startups = dataframe_1M[dataframe_1M['founded_year']>=2009]\n",
    "startups.shape"
   ]
  },
  {
   "cell_type": "markdown",
   "metadata": {},
   "source": [
    "➌ Dataframe con todas las compañias que nacieron antes de 2009 (sin tener en cuenta los $ que hayan levantado), i.e., las que queremos tener lejos."
   ]
  },
  {
   "cell_type": "code",
   "execution_count": 27,
   "metadata": {},
   "outputs": [
    {
     "data": {
      "text/plain": [
       "(13239, 14)"
      ]
     },
     "execution_count": 27,
     "metadata": {},
     "output_type": "execute_result"
    }
   ],
   "source": [
    "old = df[df['founded_year']<=2009]\n",
    "old.shape"
   ]
  },
  {
   "cell_type": "markdown",
   "metadata": {},
   "source": [
    "★ Convierto los 3 dataframes a json para importarlos con mongod desde la terminal \n",
    "como collections a MongoCompass\n",
    "\n",
    "Import Collection: mongoimport --db <database> --collection <collection_name> --jsonArray <file_name.json>\n",
    "\n",
    "Update Collection: mongoimport --db <database> --drop --collection <collection_name> --jsonArray <file_name.json>"
   ]
  },
  {
   "cell_type": "code",
   "execution_count": 28,
   "metadata": {},
   "outputs": [],
   "source": [
    "dataframe_1M.to_json('./1MillionCompanies.json', orient=\"records\")\n",
    "\n",
    "startups.to_json('./startups1M.json', orient=\"records\")\n",
    "\n",
    "old.to_json('./oldCompanies.json', orient=\"records\")"
   ]
  }
 ],
 "metadata": {
  "kernelspec": {
   "display_name": "Python 3",
   "language": "python",
   "name": "python3"
  },
  "language_info": {
   "codemirror_mode": {
    "name": "ipython",
    "version": 3
   },
   "file_extension": ".py",
   "mimetype": "text/x-python",
   "name": "python",
   "nbconvert_exporter": "python",
   "pygments_lexer": "ipython3",
   "version": "3.7.4"
  }
 },
 "nbformat": 4,
 "nbformat_minor": 2
}
