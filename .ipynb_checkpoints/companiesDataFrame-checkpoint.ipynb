{
 "cells": [
  {
   "cell_type": "code",
   "execution_count": null,
   "metadata": {},
   "outputs": [],
   "source": [
    "_idi=[]\n",
    "name=[]\n",
    "category=[]\n",
    "description=[]\n",
    "lat_office=[]\n",
    "long_office=[]\n",
    "founded_y=[]\n",
    "price=[]\n",
    "price_code=[]\n",
    "for q in range(len(query)):\n",
    "    for office in range(len(query[q].get('offices',0))):\n",
    "        _idi.append(query[q].get('_id',0))\n",
    "        name.append(query[q].get('name',0))\n",
    "        category.append(query[q].get('category_code',0))\n",
    "        description.append(query[q].get('description',0))\n",
    "        lat_office.append(query[q].get('offices',0)[office].get('latitude'))\n",
    "        long_office.append(query[q].get('offices',0)[office].get('longitude'))\n",
    "        founded_y.append(query[q].get('founded_year',0))\n",
    "        price.append(query[q].get('acquisition.price_amount',0))\n",
    "        price_code.append(query[q].get('acquisition.price_currency_code',0))"
   ]
  },
  {
   "cell_type": "code",
   "execution_count": null,
   "metadata": {},
   "outputs": [],
   "source": [
    "data = {\n",
    "    \"id\": _idi,\n",
    "    \"name\": name,\n",
    "    \"category\": category,\n",
    "    \"description\": description,\n",
    "    \"latitude\": lat_office,\n",
    "    \"longitude\":long_office,\n",
    "    \"founded_year\": founded_y,\n",
    "    \"price\": price,\n",
    "    \"price_code\": price_code       \n",
    "}\n",
    "df = pd.DataFrame(data)\n",
    "display(df)"
   ]
  }
 ],
 "metadata": {
  "kernelspec": {
   "display_name": "Python 3",
   "language": "python",
   "name": "python3"
  },
  "language_info": {
   "codemirror_mode": {
    "name": "ipython",
    "version": 3
   },
   "file_extension": ".py",
   "mimetype": "text/x-python",
   "name": "python",
   "nbconvert_exporter": "python",
   "pygments_lexer": "ipython3",
   "version": "3.7.4"
  }
 },
 "nbformat": 4,
 "nbformat_minor": 2
}
